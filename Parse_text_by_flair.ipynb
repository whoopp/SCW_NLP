{
 "cells": [
  {
   "cell_type": "code",
   "execution_count": null,
   "metadata": {},
   "outputs": [],
   "source": [
    "import json\n",
    "\n",
    "text_file = open(\"flair_Turkey_textdump.txt\", \"w\", encoding=\"utf-8\")\n",
    "\n",
    "related_data = []\n",
    "with open(\"RC_2018-11.json\", encoding=\"UTF-8\") as json_file:\n",
    "\tfor line in json_file:\n",
    "\t\tdata_point = json.loads(line)\n",
    "\t\tif data_point['subreddit_name_prefixed'] == 'r/syriancivilwar':\n",
    "\t\t\tif data_point['author_flair_text'] == 'Turkey':\n",
    "\t\t\t\trelated_data.append(data_point)\n",
    "\t\t\t\ttext_file.write(json.dumps(data_point['body']))"
   ]
  },
  {
   "cell_type": "code",
   "execution_count": null,
   "metadata": {},
   "outputs": [],
   "source": []
  }
 ],
 "metadata": {
  "kernelspec": {
   "display_name": "Python 3",
   "language": "python",
   "name": "python3"
  },
  "language_info": {
   "codemirror_mode": {
    "name": "ipython",
    "version": 3
   },
   "file_extension": ".py",
   "mimetype": "text/x-python",
   "name": "python",
   "nbconvert_exporter": "python",
   "pygments_lexer": "ipython3",
   "version": "3.7.1"
  }
 },
 "nbformat": 4,
 "nbformat_minor": 2
}
