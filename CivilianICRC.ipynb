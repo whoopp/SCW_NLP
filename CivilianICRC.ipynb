{
 "cells": [
  {
   "cell_type": "code",
   "execution_count": null,
   "metadata": {},
   "outputs": [],
   "source": [
    "import json\n",
    "import csv\n",
    "\n",
    "text_file = open(\"Civilian_ICRC_11_18.txt\", \"w\", encoding=\"utf-8\")                #change filename accordingly\n",
    "related_data = [] \n",
    "with open(\"RC_2018-11.json\", encoding=\"UTF-8\") as json_file:                    #refer to the correct dataset\n",
    "    for line in json_file:\n",
    "        data_point = json.loads(line)\n",
    "        if data_point['subreddit_name_prefixed'] == 'r/syriancivilwar':          #limit to the right sub\n",
    "            if data_point['author_flair_text'] == 'Civilian/ICRC':                         #limit to the correct flair\n",
    "                related_data.append(data_point)\n",
    "                text_file.write(json.dumps(data_point['body']))                  #refer to the correct data point\n"
   ]
  },
  {
   "cell_type": "code",
   "execution_count": null,
   "metadata": {},
   "outputs": [],
   "source": []
  }
 ],
 "metadata": {
  "kernelspec": {
   "display_name": "Python 3",
   "language": "python",
   "name": "python3"
  },
  "language_info": {
   "codemirror_mode": {
    "name": "ipython",
    "version": 3
   },
   "file_extension": ".py",
   "mimetype": "text/x-python",
   "name": "python",
   "nbconvert_exporter": "python",
   "pygments_lexer": "ipython3",
   "version": "3.7.1"
  }
 },
 "nbformat": 4,
 "nbformat_minor": 2
}
