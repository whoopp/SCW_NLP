{
 "cells": [
  {
   "cell_type": "code",
   "execution_count": null,
   "metadata": {},
   "outputs": [],
   "source": [
    "import json\n",
    "import csv\n",
    "\n",
    "with open('To_parse_flair_list.csv') as csvfile:\n",
    "    reader = csv.DictReader(csvfile)\n",
    "    flairlist = [row['Flair'] for row in reader]\n",
    "\n",
    "\n",
    "def downloadtext(flair):\n",
    "    text_file = open(flair + \"11_18.txt\", \"w\", encoding=\"utf-8\")                #change filename accordingly\n",
    "    related_data = [] \n",
    "    with open(\"RC_2018-11.json\", encoding=\"UTF-8\") as json_file:                    #refer to the correct dataset\n",
    "        for line in json_file:\n",
    "            data_point = json.loads(line)\n",
    "            if data_point['subreddit_name_prefixed'] == 'r/syriancivilwar':          #limit to the right sub\n",
    "                if data_point['author_flair_text'] == flair:                         #limit to the correct flair\n",
    "                    related_data.append(data_point)\n",
    "                    text_file.write(json.dumps(data_point['body']))                  #refer to the correct data point\n",
    "                \n",
    "for span in flairlist:\n",
    "    flair = span\n",
    "    downloadtext(flair)"
   ]
  },
  {
   "cell_type": "code",
   "execution_count": null,
   "metadata": {},
   "outputs": [],
   "source": []
  }
 ],
 "metadata": {
  "kernelspec": {
   "display_name": "Python 3",
   "language": "python",
   "name": "python3"
  },
  "language_info": {
   "codemirror_mode": {
    "name": "ipython",
    "version": 3
   },
   "file_extension": ".py",
   "mimetype": "text/x-python",
   "name": "python",
   "nbconvert_exporter": "python",
   "pygments_lexer": "ipython3",
   "version": "3.7.1"
  }
 },
 "nbformat": 4,
 "nbformat_minor": 2
}
